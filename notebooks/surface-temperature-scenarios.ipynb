{
 "cells": [
  {
   "cell_type": "markdown",
   "id": "d89f3bcb-5809-4003-80f8-833dc36a2766",
   "metadata": {},
   "source": [
    "# Surface temperature - Future scenarios"
   ]
  },
  {
   "cell_type": "code",
   "execution_count": 1,
   "id": "96c841f6-e342-4c10-b878-6a90b60c471b",
   "metadata": {},
   "outputs": [
    {
     "data": {
      "text/plain": [
       "<dask.config.set at 0x7d83617c34d0>"
      ]
     },
     "execution_count": 1,
     "metadata": {},
     "output_type": "execute_result"
    }
   ],
   "source": [
    "import numpy as np\n",
    "import pandas as pd\n",
    "import matplotlib.pyplot as plt\n",
    "import cartopy.crs as ccrs\n",
    "\n",
    "import xarray\n",
    "import dask\n",
    "\n",
    "dask.config.set(scheduler=\"processes\")"
   ]
  },
  {
   "cell_type": "markdown",
   "id": "d5a927af-f0e8-4d1e-9279-f7d1142f520f",
   "metadata": {},
   "source": [
    "# Temperature"
   ]
  },
  {
   "cell_type": "markdown",
   "id": "220cf458-dc93-4709-878b-8245aa6aa9d7",
   "metadata": {},
   "source": [
    "## Load the ESGF Virtual Aggregation inventory\n",
    "\n",
    "Load the CSV inventory and locate the datasets of interest (refer to the [tutorial]() for further information)."
   ]
  },
  {
   "cell_type": "code",
   "execution_count": 2,
   "id": "b1d20987-6a50-4951-9a6e-ed102bc8a65a",
   "metadata": {},
   "outputs": [
    {
     "name": "stderr",
     "output_type": "stream",
     "text": [
      "/tmp/ipykernel_123225/3758303378.py:1: DtypeWarning: Columns (6) have mixed types. Specify dtype option on import or set low_memory=False.\n",
      "  df = pd.read_csv(\"https://hub.climate4r.ifca.es/thredds/fileServer/public/inventory.csv.zip\")\n"
     ]
    },
    {
     "data": {
      "text/html": [
       "<div>\n",
       "<style scoped>\n",
       "    .dataframe tbody tr th:only-of-type {\n",
       "        vertical-align: middle;\n",
       "    }\n",
       "\n",
       "    .dataframe tbody tr th {\n",
       "        vertical-align: top;\n",
       "    }\n",
       "\n",
       "    .dataframe thead th {\n",
       "        text-align: right;\n",
       "    }\n",
       "</style>\n",
       "<table border=\"1\" class=\"dataframe\">\n",
       "  <thead>\n",
       "    <tr style=\"text-align: right;\">\n",
       "      <th></th>\n",
       "      <th>location</th>\n",
       "      <th>project</th>\n",
       "      <th>product</th>\n",
       "      <th>institution</th>\n",
       "      <th>model</th>\n",
       "      <th>subexperiment</th>\n",
       "      <th>table</th>\n",
       "      <th>variable</th>\n",
       "      <th>grid_label</th>\n",
       "      <th>version</th>\n",
       "      <th>replica</th>\n",
       "    </tr>\n",
       "    <tr>\n",
       "      <th>experiment</th>\n",
       "      <th></th>\n",
       "      <th></th>\n",
       "      <th></th>\n",
       "      <th></th>\n",
       "      <th></th>\n",
       "      <th></th>\n",
       "      <th></th>\n",
       "      <th></th>\n",
       "      <th></th>\n",
       "      <th></th>\n",
       "      <th></th>\n",
       "    </tr>\n",
       "  </thead>\n",
       "  <tbody>\n",
       "    <tr>\n",
       "      <th>ssp126</th>\n",
       "      <td>https://hub.ipcc.ifca.es/thredds/dodsC/esgeva/...</td>\n",
       "      <td>CMIP6</td>\n",
       "      <td>ScenarioMIP</td>\n",
       "      <td>CNRM-CERFACS</td>\n",
       "      <td>CNRM-CM6-1</td>\n",
       "      <td>NaN</td>\n",
       "      <td>Amon</td>\n",
       "      <td>tas</td>\n",
       "      <td>gr</td>\n",
       "      <td>v20190410</td>\n",
       "      <td>esgf.ceda.ac.uk</td>\n",
       "    </tr>\n",
       "    <tr>\n",
       "      <th>ssp245</th>\n",
       "      <td>https://hub.ipcc.ifca.es/thredds/dodsC/esgeva/...</td>\n",
       "      <td>CMIP6</td>\n",
       "      <td>ScenarioMIP</td>\n",
       "      <td>CNRM-CERFACS</td>\n",
       "      <td>CNRM-CM6-1</td>\n",
       "      <td>NaN</td>\n",
       "      <td>Amon</td>\n",
       "      <td>tas</td>\n",
       "      <td>gr</td>\n",
       "      <td>v20190410</td>\n",
       "      <td>esgf.ceda.ac.uk</td>\n",
       "    </tr>\n",
       "    <tr>\n",
       "      <th>ssp370</th>\n",
       "      <td>https://hub.ipcc.ifca.es/thredds/dodsC/esgeva/...</td>\n",
       "      <td>CMIP6</td>\n",
       "      <td>ScenarioMIP</td>\n",
       "      <td>CNRM-CERFACS</td>\n",
       "      <td>CNRM-CM6-1</td>\n",
       "      <td>NaN</td>\n",
       "      <td>Amon</td>\n",
       "      <td>tas</td>\n",
       "      <td>gr</td>\n",
       "      <td>v20190410</td>\n",
       "      <td>esgf.ceda.ac.uk</td>\n",
       "    </tr>\n",
       "    <tr>\n",
       "      <th>ssp585</th>\n",
       "      <td>https://hub.ipcc.ifca.es/thredds/dodsC/esgeva/...</td>\n",
       "      <td>CMIP6</td>\n",
       "      <td>ScenarioMIP</td>\n",
       "      <td>CNRM-CERFACS</td>\n",
       "      <td>CNRM-CM6-1</td>\n",
       "      <td>NaN</td>\n",
       "      <td>Amon</td>\n",
       "      <td>tas</td>\n",
       "      <td>gr</td>\n",
       "      <td>v20190410</td>\n",
       "      <td>esgf.ceda.ac.uk</td>\n",
       "    </tr>\n",
       "    <tr>\n",
       "      <th>historical</th>\n",
       "      <td>https://hub.ipcc.ifca.es/thredds/dodsC/esgeva/...</td>\n",
       "      <td>CMIP6</td>\n",
       "      <td>CMIP</td>\n",
       "      <td>CNRM-CERFACS</td>\n",
       "      <td>CNRM-CM6-1</td>\n",
       "      <td>NaN</td>\n",
       "      <td>Amon</td>\n",
       "      <td>tas</td>\n",
       "      <td>gr</td>\n",
       "      <td>v20190125</td>\n",
       "      <td>esgf.ceda.ac.uk</td>\n",
       "    </tr>\n",
       "  </tbody>\n",
       "</table>\n",
       "</div>"
      ],
      "text/plain": [
       "                                                     location project  \\\n",
       "experiment                                                              \n",
       "ssp126      https://hub.ipcc.ifca.es/thredds/dodsC/esgeva/...   CMIP6   \n",
       "ssp245      https://hub.ipcc.ifca.es/thredds/dodsC/esgeva/...   CMIP6   \n",
       "ssp370      https://hub.ipcc.ifca.es/thredds/dodsC/esgeva/...   CMIP6   \n",
       "ssp585      https://hub.ipcc.ifca.es/thredds/dodsC/esgeva/...   CMIP6   \n",
       "historical  https://hub.ipcc.ifca.es/thredds/dodsC/esgeva/...   CMIP6   \n",
       "\n",
       "                product   institution       model subexperiment table  \\\n",
       "experiment                                                              \n",
       "ssp126      ScenarioMIP  CNRM-CERFACS  CNRM-CM6-1           NaN  Amon   \n",
       "ssp245      ScenarioMIP  CNRM-CERFACS  CNRM-CM6-1           NaN  Amon   \n",
       "ssp370      ScenarioMIP  CNRM-CERFACS  CNRM-CM6-1           NaN  Amon   \n",
       "ssp585      ScenarioMIP  CNRM-CERFACS  CNRM-CM6-1           NaN  Amon   \n",
       "historical         CMIP  CNRM-CERFACS  CNRM-CM6-1           NaN  Amon   \n",
       "\n",
       "           variable grid_label    version          replica  \n",
       "experiment                                                  \n",
       "ssp126          tas         gr  v20190410  esgf.ceda.ac.uk  \n",
       "ssp245          tas         gr  v20190410  esgf.ceda.ac.uk  \n",
       "ssp370          tas         gr  v20190410  esgf.ceda.ac.uk  \n",
       "ssp585          tas         gr  v20190410  esgf.ceda.ac.uk  \n",
       "historical      tas         gr  v20190125  esgf.ceda.ac.uk  "
      ]
     },
     "execution_count": 2,
     "metadata": {},
     "output_type": "execute_result"
    }
   ],
   "source": [
    "df = pd.read_csv(\"https://hub.climate4r.ifca.es/thredds/fileServer/public/inventory.csv.zip\")\n",
    "\n",
    "subset = pd.concat([\n",
    "    df.query(\"model == 'CNRM-CM6-1' & product == 'ScenarioMIP' & experiment == 'ssp126' & variable == 'tas' & institution == 'CNRM-CERFACS' & table == 'Amon' & replica == 'esgf.ceda.ac.uk' & version == 'v20190410'\"),\n",
    "    df.query(\"model == 'CNRM-CM6-1' & product == 'ScenarioMIP' & experiment == 'ssp245' & variable == 'tas' & institution == 'CNRM-CERFACS' & table == 'Amon' & replica == 'esgf.ceda.ac.uk' & version == 'v20190410'\"),\n",
    "    df.query(\"model == 'CNRM-CM6-1' & product == 'ScenarioMIP' & experiment == 'ssp370' & variable == 'tas' & institution == 'CNRM-CERFACS' & table == 'Amon' & replica == 'esgf.ceda.ac.uk' & version == 'v20190410'\"),\n",
    "    df.query(\"model == 'CNRM-CM6-1' & product == 'ScenarioMIP' & experiment == 'ssp585' & variable == 'tas' & institution == 'CNRM-CERFACS' & table == 'Amon' & replica == 'esgf.ceda.ac.uk' & version == 'v20190410'\"),\n",
    "    df.query(\"model == 'CNRM-CM6-1' & product == 'CMIP' & experiment == 'historical' & variable == 'tas' & institution == 'CNRM-CERFACS' & table == 'Amon' & replica == 'esgf.ceda.ac.uk' & version == 'v20190125'\"),\n",
    "]).set_index(\"experiment\")\n",
    "\n",
    "subset"
   ]
  },
  {
   "cell_type": "markdown",
   "id": "d2eae9af-d74b-47fe-bbce-34662e6bfafc",
   "metadata": {},
   "source": [
    "## 5 model members (19 for historical)"
   ]
  },
  {
   "cell_type": "code",
   "execution_count": 3,
   "id": "0d0a7d0b-dd37-4b5c-b2e4-8d3af2590e43",
   "metadata": {},
   "outputs": [
    {
     "name": "stdout",
     "output_type": "stream",
     "text": [
      "CPU times: user 327 ms, sys: 25.9 ms, total: 353 ms\n",
      "Wall time: 2.02 s\n"
     ]
    }
   ],
   "source": [
    "%%time\n",
    "\n",
    "ssp126 = xarray.open_dataset(subset.loc[\"ssp126\", \"location\"]).chunk(variant_label=1, time=100)\n",
    "ssp245 = xarray.open_dataset(subset.loc[\"ssp245\", \"location\"]).chunk(variant_label=1, time=100)\n",
    "ssp370 = xarray.open_dataset(subset.loc[\"ssp370\", \"location\"]).chunk(variant_label=1, time=100)\n",
    "ssp585 = xarray.open_dataset(subset.loc[\"ssp585\", \"location\"]).chunk(variant_label=1, time=100)\n",
    "\n",
    "historical = xarray.open_dataset(subset.loc[\"historical\", \"location\"]).chunk(variant_label=1, time=100)\n",
    "scenarios = xarray.concat([ssp126, ssp245, ssp370, ssp585], dim=xarray.Variable([\"scenario\"], [\"ssp126\", \"ssp245\", \"ssp370\", \"ssp585\"]))"
   ]
  },
  {
   "cell_type": "code",
   "execution_count": 4,
   "id": "d68b65fb-2714-43b1-9e38-8bc73696717d",
   "metadata": {},
   "outputs": [
    {
     "name": "stdout",
     "output_type": "stream",
     "text": [
      "CPU times: user 17.4 s, sys: 19.9 s, total: 37.3 s\n",
      "Wall time: 6min 23s\n"
     ]
    },
    {
     "name": "stderr",
     "output_type": "stream",
     "text": [
      "<string>:7: FutureWarning: 'Y' is deprecated and will be removed in a future version. Please use 'YE' instead of 'Y'.\n"
     ]
    }
   ],
   "source": [
    "%%time\n",
    "\n",
    "weights = np.cos(np.deg2rad(scenarios[\"lat\"]))\n",
    "mean_hist_1995_2014 = historical[\"tas\"].sel(time=slice(\"19950101\", \"20141231\")).weighted(weights).mean([\"time\", \"lat\", \"lon\"]).compute(num_worker=4)\n",
    "\n",
    "historical_mean = historical[\"tas\"].weighted(weights).mean([\"variant_label\", \"lat\", \"lon\"]).compute(num_worker=4)\n",
    "scenarios_mean = scenarios[\"tas\"].weighted(weights).mean([\"variant_label\", \"lat\", \"lon\"]).compute(num_worker=4)\n",
    "\n",
    "historical_mean_spatial = historical[\"tas\"].weighted(weights).mean([\"lat\", \"lon\"]).compute(num_worker=4)\n",
    "scenarios_mean_spatial = scenarios[\"tas\"].weighted(weights).mean([\"lat\", \"lon\"]).compute(num_worker=4)\n",
    "\n",
    "q = scenarios_mean_spatial.resample(time=\"Y\").mean().quantile([.05, .95], dim=[\"variant_label\"])"
   ]
  },
  {
   "cell_type": "code",
   "execution_count": 5,
   "id": "28b06ed0-c560-4337-8855-7fb20304b48a",
   "metadata": {},
   "outputs": [
    {
     "name": "stderr",
     "output_type": "stream",
     "text": [
      "<string>:7: FutureWarning: 'Y' is deprecated and will be removed in a future version. Please use 'YE' instead of 'Y'.\n",
      "<string>:7: FutureWarning: 'Y' is deprecated and will be removed in a future version. Please use 'YE' instead of 'Y'.\n",
      "<string>:7: FutureWarning: 'Y' is deprecated and will be removed in a future version. Please use 'YE' instead of 'Y'.\n",
      "<string>:7: FutureWarning: 'Y' is deprecated and will be removed in a future version. Please use 'YE' instead of 'Y'.\n",
      "<string>:7: FutureWarning: 'Y' is deprecated and will be removed in a future version. Please use 'YE' instead of 'Y'.\n",
      "<string>:7: FutureWarning: 'Y' is deprecated and will be removed in a future version. Please use 'YE' instead of 'Y'.\n",
      "<string>:7: FutureWarning: 'Y' is deprecated and will be removed in a future version. Please use 'YE' instead of 'Y'.\n",
      "<string>:7: FutureWarning: 'Y' is deprecated and will be removed in a future version. Please use 'YE' instead of 'Y'.\n",
      "<string>:7: FutureWarning: 'Y' is deprecated and will be removed in a future version. Please use 'YE' instead of 'Y'.\n",
      "<string>:7: FutureWarning: 'Y' is deprecated and will be removed in a future version. Please use 'YE' instead of 'Y'.\n",
      "<string>:7: FutureWarning: 'Y' is deprecated and will be removed in a future version. Please use 'YE' instead of 'Y'.\n"
     ]
    },
    {
     "data": {
      "image/png": "[encoded data removed]",
      "text/plain": [
       "<Figure size 500x300 with 1 Axes>"
      ]
     },
     "metadata": {},
     "output_type": "display_data"
    }
   ],
   "source": [
    "fig, ax = plt.subplots(figsize=(5,3))\n",
    "\n",
    "colors = {\n",
    "    \"ssp126\": \"#0e57cc\",\n",
    "    \"ssp245\": \"#e68d26\",\n",
    "    \"ssp370\": \"#e81515\",\n",
    "    \"ssp585\": \"#9b1a22\",\n",
    "}\n",
    "\n",
    "labels = {\n",
    "    \"ssp126\": \"SSP1-2.6\",\n",
    "    \"ssp245\": \"SSP2-4.5\",\n",
    "    \"ssp370\": \"SSP3-7.0\",\n",
    "    \"ssp585\": \"SSP5-8.5\",\n",
    "}\n",
    "\n",
    "lengths = {\n",
    "    \"ssp126\": len(ssp126[\"variant_label\"]),\n",
    "    \"ssp245\": len(ssp245[\"variant_label\"]),\n",
    "    \"ssp370\": len(ssp370[\"variant_label\"]),\n",
    "    \"ssp585\": len(ssp585[\"variant_label\"]),\n",
    "}\n",
    "\n",
    "qh = historical_mean_spatial.resample(time=\"Y\").mean().quantile([.05, .95], dim=[\"variant_label\"])\n",
    "ax.plot(\n",
    "    historical_mean.resample(time=\"Y\").mean().sel(time=slice(\"19000101\", None)).time,\n",
    "    historical_mean.resample(time=\"Y\").mean().sel(time=slice(\"19000101\", None)),\n",
    "    color=\"black\",\n",
    "    label=f\"Historical  {len(historical['variant_label'])}\")\n",
    "ax.fill_between(\n",
    "    qh.sel(time=slice(\"19000101\", None)).time,\n",
    "    qh.sel(time=slice(\"19000101\", None)).sel(quantile=.05),\n",
    "    qh.sel(time=slice(\"19000101\", None)).sel(quantile=.95),\n",
    "    color=\"#616161\", alpha=.25)\n",
    "\n",
    "for scenario_da in scenarios[\"scenario\"]:\n",
    "    sc = scenario_da.item()\n",
    "    ax.plot(\n",
    "        scenarios_mean.sel(scenario=sc).resample(time=\"Y\").mean().time,\n",
    "        scenarios_mean.sel(scenario=sc).resample(time=\"Y\").mean(),\n",
    "        color=colors[sc],\n",
    "        label=f\"{labels[sc]}  {lengths[sc]}\")\n",
    "    ax.fill_between(\n",
    "        q.time,\n",
    "        q.sel(scenario=sc, quantile=.05),\n",
    "        q.sel(scenario=sc, quantile=.95),\n",
    "        color=colors[sc], alpha=.25)\n",
    "\n",
    "ax.set_ylabel(\"Surface temperature (K)\")\n",
    "ax.legend()\n",
    "\n",
    "plt.margins(x=0)\n",
    "plt.savefig(\"scenarios-tas-CNRM-CM6-1.pdf\")"
   ]
  },
  {
   "cell_type": "code",
   "execution_count": null,
   "id": "a73a4f97-baf3-4b7f-977e-eefafd1815c0",
   "metadata": {},
   "outputs": [],
   "source": []
  }
 ],
 "metadata": {
  "kernelspec": {
   "display_name": "nc48",
   "language": "python",
   "name": "nc48"
  },
  "language_info": {
   "codemirror_mode": {
    "name": "ipython",
    "version": 3
   },
   "file_extension": ".py",
   "mimetype": "text/x-python",
   "name": "python",
   "nbconvert_exporter": "python",
   "pygments_lexer": "ipython3",
   "version": "3.11.6"
  }
 },
 "nbformat": 4,
 "nbformat_minor": 5
}
