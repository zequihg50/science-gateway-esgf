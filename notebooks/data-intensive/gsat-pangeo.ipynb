{
 "cells": [
  {
   "cell_type": "markdown",
   "id": "a0026905-5c02-444a-8ac0-bd1c62a43496",
   "metadata": {},
   "source": [
    "# Pangeo - Global Surface Air Temperature changes in future scenarios\n",
    "\n",
    "> This notebook is a reproducibility example of the IPCC-WGI AR6 Interactive Atlas products, which has been adapted to work with the ESGF Virtual Aggregation. This work is licensed under a [Creative Commons Attribution 4.0 International License](http://creativecommons.org/licenses/by/4.0).\n",
    ">\n",
    "> ![Creative Commons License >](https://i.creativecommons.org/l/by/4.0/88x31.png)\n",
    "\n",
    "**E. Cimadevilla** (Santander Meteorology Group. Instituto de Física de Cantabria, CSIC-UC, Santander, Spain).\n",
    "\n",
    "This notebook computes Global Surface Air Temperature (GSAT) changes relative to the 1995–2014 and 1850–1900 averages, according to CMIP6 climate models.\n",
    "\n",
    "This notebook works with data available in the [Google Cloud CMIP6 dataset](https://console.cloud.google.com/marketplace/product/noaa-public/cmip6). The Google Cloud CMIP6 data are derived from the original CMIP6 data files, as distributed via the Earth System Grid Federation (ESGF). Consistent with the CMIP6 terms of use, some modifications have been made to render the data more analysis-ready, including concatenation of time slices and conversion from netCDF to [Zarr](https://zarr.readthedocs.io/) format. All relevant metadata, including information about how to cite, are provided in the zarr metadata. The CMIP6 hosted on Google Cloud are maintained by the Climate Data Science Lab at Lamont Doherty Earth Observatory (LDEO) of Columbia University, as part of the [Pangeo Project](https://pangeo.io/) ."
   ]
  },
  {
   "cell_type": "code",
   "execution_count": null,
   "id": "529d9f1b-08cb-4625-8869-d157dd12826c",
   "metadata": {},
   "outputs": [],
   "source": [
    "import requests\n",
    "\n",
    "import numpy as np\n",
    "import pandas as pd\n",
    "import matplotlib.pyplot as plt\n",
    "import cartopy.crs as ccrs\n",
    "import cftime\n",
    "\n",
    "import xarray\n",
    "import dask"
   ]
  },
  {
   "cell_type": "code",
   "execution_count": null,
   "id": "2c62132d-8b81-478f-ac18-61814bea9d14",
   "metadata": {},
   "outputs": [],
   "source": [
    "dask.config.set(scheduler=\"processes\")"
   ]
  },
  {
   "cell_type": "markdown",
   "id": "793ad798-8464-44e4-a2e4-dfa86ea5b997",
   "metadata": {},
   "source": [
    "## Data catalog\n",
    "\n",
    "The `gsat-pangeo.csv` catalog include the paths to the Google Cloud datasets considered in this notebook. We can analyze it with Pandas."
   ]
  },
  {
   "cell_type": "code",
   "execution_count": null,
   "id": "e03b2e49-c58b-4913-907d-2b2909ca741d",
   "metadata": {},
   "outputs": [],
   "source": [
    "df = pd.read_csv(\"gsat-pangeo.csv\")\n",
    "df"
   ]
  },
  {
   "cell_type": "markdown",
   "id": "a7105c2f-b405-42d5-976a-9cdd65a99476",
   "metadata": {},
   "source": [
    "## Data loading\n",
    "\n",
    "We load the data into [xarray](https://docs.xarray.dev/en/stable/) datasets, since xarray is compatible with [Zarr](https://docs.xarray.dev/en/stable/user-guide/io.html#zarr)."
   ]
  },
  {
   "cell_type": "code",
   "execution_count": null,
   "id": "4dd6c713-c1c8-4b11-bc35-8873e34f07b1",
   "metadata": {},
   "outputs": [],
   "source": [
    "def load_datasets_pangeo(locations, experiment):\n",
    "    dss = []\n",
    "    for location in locations:\n",
    "        if location is np.nan:\n",
    "            continue\n",
    "\n",
    "        model = location.split(\"/\")[6]\n",
    "        member = location.split(\"/\")[8]\n",
    "\n",
    "        ds = xarray.open_zarr(\n",
    "            location,\n",
    "            drop_variables=[\"time_bnds\", \"lat_bnds\", \"lon_bnds\"])\n",
    "\n",
    "        if experiment.startswith(\"ssp\"):\n",
    "            ds = ds.isel(time=slice(None, 31390))\n",
    "            # limit to 2100, avoid cf time indexing issues\n",
    "            if isinstance(ds[\"time\"][0].item(), cftime.Datetime360Day):\n",
    "                ds = ds.sel(time=slice(\"20150101\", \"21001230\"))\n",
    "            else:\n",
    "                ds = ds.sel(time=slice(\"20150101\", \"21001231\"))\n",
    "        elif experiment == \"historical\":\n",
    "            pass\n",
    "        else:\n",
    "            raise ValueError(\"Invalid experiment... exiting\")\n",
    "    \n",
    "        # add the model_run global attribute\n",
    "        ds.attrs[\"model_run\"] = f\"{model}_{member}\"\n",
    "        dss.append(ds)\n",
    "\n",
    "    return dss"
   ]
  },
  {
   "cell_type": "markdown",
   "id": "2450984e-6ca5-464a-a75a-3196590935e8",
   "metadata": {},
   "source": [
    "Load the different scenarios."
   ]
  },
  {
   "cell_type": "code",
   "execution_count": null,
   "id": "5502099d-4bbe-447d-9794-8934d1ed07d6",
   "metadata": {},
   "outputs": [],
   "source": [
    "historical_dss = load_datasets_pangeo(df[\"historical\"], \"historical\")\n",
    "ssp126_dss = load_datasets_pangeo(df[\"ssp126\"], \"ssp126\")\n",
    "ssp245_dss = load_datasets_pangeo(df[\"ssp245\"], \"ssp245\")\n",
    "ssp370_dss = load_datasets_pangeo(df[\"ssp370\"], \"ssp370\")\n",
    "ssp585_dss = load_datasets_pangeo(df[\"ssp585\"], \"ssp585\")"
   ]
  },
  {
   "cell_type": "markdown",
   "id": "bff22248-3337-4380-ae2b-2cd76a645af5",
   "metadata": {},
   "source": [
    "Preview one of the datasets."
   ]
  },
  {
   "cell_type": "code",
   "execution_count": null,
   "id": "46a18d1b-e86f-416d-9222-e97ad0689e00",
   "metadata": {},
   "outputs": [],
   "source": [
    "historical_dss[0][\"tas\"]"
   ]
  },
  {
   "cell_type": "markdown",
   "id": "ee9286cf-8996-4d50-bb98-de1e566e84dc",
   "metadata": {},
   "source": [
    "## Computation\n",
    "\n",
    "The functions that compute global surface average temperatures (GSAT) is available in the `gsat.py` module. We implement weighted and unweighted GSAT."
   ]
  },
  {
   "cell_type": "code",
   "execution_count": null,
   "id": "4a075528-663f-49fa-9238-6de43cf46ae3",
   "metadata": {},
   "outputs": [],
   "source": [
    "from gsat import weighted, unweighted"
   ]
  },
  {
   "cell_type": "markdown",
   "id": "a7e5fb72-8329-457d-b1cf-efb502c9e7e3",
   "metadata": {},
   "source": [
    "### Weighted\n",
    "\n",
    "Due to the implementation of weighted operations between xarray and Dask, this operation is more expensive in comparison with the unweighted version. This is due to Dask tasks that have to wait for each other in order to carry out weighted operations."
   ]
  },
  {
   "cell_type": "markdown",
   "id": "e95b0731-54f7-461d-ab1e-a563cf965a3f",
   "metadata": {},
   "source": [
    "\n",
    "- 3h 9min 43s"
   ]
  },
  {
   "cell_type": "code",
   "execution_count": null,
   "id": "4f9d50b2-ad78-498d-8b4d-ae86f3e8da0d",
   "metadata": {},
   "outputs": [],
   "source": [
    "%%time\n",
    "\n",
    "mean_hist_1995_2014, mean_hist_1850_1900, mean_hist, mean_ssp126, mean_ssp245, mean_ssp370, mean_ssp585 = weighted(\n",
    "    8,\n",
    "    historical_dss, ssp126_dss, ssp245_dss, ssp370_dss, ssp585_dss)"
   ]
  },
  {
   "cell_type": "code",
   "execution_count": null,
   "id": "5db79d80-af5e-47fb-8f59-a05578aa9315",
   "metadata": {},
   "outputs": [],
   "source": [
    "m_hist   = (mean_hist   - mean_hist_1995_2014).resample({\"time\": \"YE\"}).mean().mean(\"member\").isel(time=slice(None,-1))[\"tas\"]\n",
    "m_ssp126 = (mean_ssp126 - mean_hist_1995_2014).resample({\"time\": \"YE\"}).mean().mean(\"member\").isel(time=slice(None,-1))[\"tas\"]\n",
    "m_ssp245 = (mean_ssp245 - mean_hist_1995_2014).resample({\"time\": \"YE\"}).mean().mean(\"member\").isel(time=slice(None,-1))[\"tas\"]\n",
    "m_ssp370 = (mean_ssp370 - mean_hist_1995_2014).resample({\"time\": \"YE\"}).mean().mean(\"member\").isel(time=slice(None,-1))[\"tas\"]\n",
    "m_ssp585 = (mean_ssp585 - mean_hist_1995_2014).resample({\"time\": \"YE\"}).mean().mean(\"member\").isel(time=slice(None,-1))[\"tas\"]\n",
    "\n",
    "m_hist_18   = (mean_hist   - mean_hist_1850_1900).resample({\"time\": \"YE\"}).mean().mean(\"member\").isel(time=slice(None,-1))[\"tas\"]\n",
    "m_ssp126_18 = (mean_ssp126 - mean_hist_1850_1900).resample({\"time\": \"YE\"}).mean().mean(\"member\").isel(time=slice(None,-1))[\"tas\"]\n",
    "m_ssp245_18 = (mean_ssp245 - mean_hist_1850_1900).resample({\"time\": \"YE\"}).mean().mean(\"member\").isel(time=slice(None,-1))[\"tas\"]\n",
    "m_ssp370_18 = (mean_ssp370 - mean_hist_1850_1900).resample({\"time\": \"YE\"}).mean().mean(\"member\").isel(time=slice(None,-1))[\"tas\"]\n",
    "m_ssp585_18 = (mean_ssp585 - mean_hist_1850_1900).resample({\"time\": \"YE\"}).mean().mean(\"member\").isel(time=slice(None,-1))[\"tas\"]\n",
    "\n",
    "q_hist   = (mean_hist   - mean_hist_1995_2014).resample({\"time\": \"YE\"}).mean().quantile([.05, .95], dim=[\"member\"]).isel(time=slice(None,-1))[\"tas\"]\n",
    "q_ssp126 = (mean_ssp126 - mean_hist_1995_2014).resample({\"time\": \"YE\"}).mean().quantile([.05, .95], dim=[\"member\"]).isel(time=slice(None,-1))[\"tas\"]\n",
    "q_ssp370 = (mean_ssp370 - mean_hist_1995_2014).resample({\"time\": \"YE\"}).mean().quantile([.05, .95], dim=[\"member\"]).isel(time=slice(None,-1))[\"tas\"]\n",
    "q_ssp585 = (mean_ssp585 - mean_hist_1995_2014).resample({\"time\": \"YE\"}).mean().quantile([.05, .95], dim=[\"member\"]).isel(time=slice(None,-1))[\"tas\"]"
   ]
  },
  {
   "cell_type": "code",
   "execution_count": null,
   "id": "e711ed07-f5ed-4211-9c2d-82c4a45170bd",
   "metadata": {},
   "outputs": [],
   "source": [
    "fig, ax = plt.subplots(figsize=(5,5))\n",
    "\n",
    "ax.fill_between(q_hist.time,\n",
    "                q_hist.sel(quantile=.05),\n",
    "                q_hist.sel(quantile=.95),\n",
    "                color=\"#616161\", alpha=0.25)\n",
    "ax.fill_between(q_ssp126.time,\n",
    "                q_ssp126.sel(quantile=.05),\n",
    "                q_ssp126.sel(quantile=.95),\n",
    "                color=\"#0e57cc\", alpha=0.25)\n",
    "ax.fill_between(q_ssp370.time,\n",
    "                q_ssp370.sel(quantile=.05),\n",
    "                q_ssp370.sel(quantile=.95),\n",
    "                color=\"#e81515\", alpha=0.25)\n",
    "\n",
    "ytop = 6\n",
    "ax.set_ylabel(\"Relative to 1995-2014 (°C)\")\n",
    "ax.axhline(y=0, color=\"black\")\n",
    "ax.text(np.datetime64('2024-12-31T00:00:00.000000000'), -1, \"Near\\nterm\")\n",
    "ax.text(np.datetime64('2044-12-31T00:00:00.000000000'), -1, \"Mid\\nterm\")\n",
    "ax.text(np.datetime64('2084-12-31T00:00:00.000000000'), -1, \"Long\\nterm\")\n",
    "ax.fill_between(\n",
    "    m_ssp126[\"time\"].sel(time=slice(\"20200101\", \"20400101\")),\n",
    "    -2, ytop+.82, alpha=.33, color=\"grey\")\n",
    "ax.fill_between(\n",
    "     m_ssp126[\"time\"].sel(time=slice(\"20400101\", \"20600101\")),\n",
    "    -2, ytop+.82, alpha=.33, color=\"grey\")\n",
    "ax.fill_between(\n",
    "     m_ssp126[\"time\"].sel(time=slice(\"20800101\", None)),\n",
    "    -2, ytop+.82, alpha=.33, color=\"grey\")\n",
    "\n",
    "ax2 = ax.twinx()\n",
    "ax2.set_ylabel(\"Relative to 1850-1900 (°C)\")\n",
    "ax2.set_ylim(bottom=-2+.82, top=ytop+.82)\n",
    "ax.set_ylim([-2, ytop])\n",
    "\n",
    "ax.plot(m_hist.time, m_hist, color=\"#010101\", label=f\"Historical  {len(mean_hist['member'])}\")\n",
    "ax.plot(m_ssp126.time, m_ssp126, color=\"#0e57cc\", label=f\"SSP1-2.6  {len(mean_ssp126['member'])}\")\n",
    "ax.plot(m_ssp245.time, m_ssp245, color=\"#e68d26\", label=f\"SSP2-4.5  {len(mean_ssp245['member'])}\")\n",
    "ax.plot(m_ssp370.time, m_ssp370, color=\"#e81515\", label=f\"SSP3-7.0  {len(mean_ssp370['member'])}\")\n",
    "ax.plot(m_ssp585.time, m_ssp585, color=\"#9b1a22\", label=f\"SSP5-8.5  {len(mean_ssp585['member'])}\")\n",
    "\n",
    "# ax2.plot(m_hist_18.time, m_hist_18, color=\"#010101\", label=f\"Historical  {len(mean_hist['member'])}\")\n",
    "# ax2.plot(m_ssp126_18.time, m_ssp126_18, color=\"#0e57cc\", label=f\"SSP1-2.6  {len(mean_ssp126['member'])}\")\n",
    "# ax2.plot(m_ssp245_18.time, m_ssp245_18, color=\"#e68d26\", label=f\"SSP2-4.5  {len(mean_ssp245['member'])}\")\n",
    "# ax2.plot(m_ssp370_18.time, m_ssp370_18, color=\"#e81515\", label=f\"SSP3-7.0  {len(mean_ssp370['member'])}\")\n",
    "# ax2.plot(m_ssp585_18.time, m_ssp585_18, color=\"#9b1a22\", label=f\"SSP5-8.5  {len(mean_ssp585['member'])}\")\n",
    "\n",
    "ax.margins(0)\n",
    "ax2.margins(0)\n",
    "ax.legend()\n",
    "\n",
    "plt.savefig(\"pangeo-weighted.pdf\")"
   ]
  },
  {
   "cell_type": "markdown",
   "id": "6c43617d-167b-4079-bc92-6e3fc4740898",
   "metadata": {},
   "source": [
    "### Unweighted\n",
    "\n",
    "In contrast to the weighted version, unweighted tasks in the Dask graph do not depend on each other for the computation of the final result. Thus, we can measure the actual throughtput of the infrastructure, since we are not spending time within the computation runtime."
   ]
  },
  {
   "cell_type": "markdown",
   "id": "efe00d69-e73e-4f4a-be6d-5dc0c86cb106",
   "metadata": {},
   "source": [
    "260 GB\n",
    "\n",
    "- 1h 30min 58s\n",
    "- 1h 31min 7s"
   ]
  },
  {
   "cell_type": "code",
   "execution_count": null,
   "id": "5998c45a-1eea-49b1-ad25-22a613bb415a",
   "metadata": {},
   "outputs": [],
   "source": [
    "%%time\n",
    "\n",
    "un_mean_hist_1995_2014, un_mean_hist_1850_1900, un_mean_hist, un_mean_ssp126, un_mean_ssp245, un_mean_ssp370, un_mean_ssp585 = unweighted(\n",
    "    8,\n",
    "    historical_dss, ssp126_dss, ssp245_dss, ssp370_dss, ssp585_dss)"
   ]
  },
  {
   "cell_type": "code",
   "execution_count": null,
   "id": "3fb7ccfa-464d-4af2-b478-732bf1321c3b",
   "metadata": {},
   "outputs": [],
   "source": [
    "m_hist   = (un_mean_hist   - un_mean_hist_1995_2014).resample({\"time\": \"YE\"}).mean().mean(\"member\").isel(time=slice(None,-1))[\"tas\"]\n",
    "m_ssp126 = (un_mean_ssp126 - un_mean_hist_1995_2014).resample({\"time\": \"YE\"}).mean().mean(\"member\").isel(time=slice(None,-1))[\"tas\"]\n",
    "m_ssp245 = (un_mean_ssp245 - un_mean_hist_1995_2014).resample({\"time\": \"YE\"}).mean().mean(\"member\").isel(time=slice(None,-1))[\"tas\"]\n",
    "m_ssp370 = (un_mean_ssp370 - un_mean_hist_1995_2014).resample({\"time\": \"YE\"}).mean().mean(\"member\").isel(time=slice(None,-1))[\"tas\"]\n",
    "m_ssp585 = (un_mean_ssp585 - un_mean_hist_1995_2014).resample({\"time\": \"YE\"}).mean().mean(\"member\").isel(time=slice(None,-1))[\"tas\"]\n",
    "\n",
    "m_hist_18   = (un_mean_hist   - un_mean_hist_1850_1900).resample({\"time\": \"YE\"}).mean().mean(\"member\").isel(time=slice(None,-1))[\"tas\"]\n",
    "m_ssp126_18 = (un_mean_ssp126 - un_mean_hist_1850_1900).resample({\"time\": \"YE\"}).mean().mean(\"member\").isel(time=slice(None,-1))[\"tas\"]\n",
    "m_ssp245_18 = (un_mean_ssp245 - un_mean_hist_1850_1900).resample({\"time\": \"YE\"}).mean().mean(\"member\").isel(time=slice(None,-1))[\"tas\"]\n",
    "m_ssp370_18 = (un_mean_ssp370 - un_mean_hist_1850_1900).resample({\"time\": \"YE\"}).mean().mean(\"member\").isel(time=slice(None,-1))[\"tas\"]\n",
    "m_ssp585_18 = (un_mean_ssp585 - un_mean_hist_1850_1900).resample({\"time\": \"YE\"}).mean().mean(\"member\").isel(time=slice(None,-1))[\"tas\"]\n",
    "\n",
    "q_hist   = (un_mean_hist   - un_mean_hist_1995_2014).resample({\"time\": \"YE\"}).mean().quantile([.05, .95], dim=[\"member\"]).isel(time=slice(None,-1))[\"tas\"]\n",
    "q_ssp126 = (un_mean_ssp126 - un_mean_hist_1995_2014).resample({\"time\": \"YE\"}).mean().quantile([.05, .95], dim=[\"member\"]).isel(time=slice(None,-1))[\"tas\"]\n",
    "q_ssp370 = (un_mean_ssp370 - un_mean_hist_1995_2014).resample({\"time\": \"YE\"}).mean().quantile([.05, .95], dim=[\"member\"]).isel(time=slice(None,-1))[\"tas\"]\n",
    "q_ssp585 = (un_mean_ssp585 - un_mean_hist_1995_2014).resample({\"time\": \"YE\"}).mean().quantile([.05, .95], dim=[\"member\"]).isel(time=slice(None,-1))[\"tas\"]"
   ]
  },
  {
   "cell_type": "code",
   "execution_count": null,
   "id": "4d2e1a69-0894-4bf5-8583-97fb38209331",
   "metadata": {},
   "outputs": [],
   "source": [
    "fig, ax = plt.subplots(figsize=(5,5))\n",
    "\n",
    "ax.fill_between(q_hist.time,\n",
    "                q_hist.sel(quantile=.05),\n",
    "                q_hist.sel(quantile=.95),\n",
    "                color=\"#616161\", alpha=0.25)\n",
    "ax.fill_between(q_ssp126.time,\n",
    "                q_ssp126.sel(quantile=.05),\n",
    "                q_ssp126.sel(quantile=.95),\n",
    "                color=\"#0e57cc\", alpha=0.25)\n",
    "ax.fill_between(q_ssp370.time,\n",
    "                q_ssp370.sel(quantile=.05),\n",
    "                q_ssp370.sel(quantile=.95),\n",
    "                color=\"#e81515\", alpha=0.25)\n",
    "\n",
    "ytop = 6\n",
    "ax.set_ylabel(\"Relative to 1995-2014 (°C)\")\n",
    "ax.axhline(y=0, color=\"black\")\n",
    "ax.text(np.datetime64('2024-12-31T00:00:00.000000000'), -1, \"Near\\nterm\")\n",
    "ax.text(np.datetime64('2044-12-31T00:00:00.000000000'), -1, \"Mid\\nterm\")\n",
    "ax.text(np.datetime64('2084-12-31T00:00:00.000000000'), -1, \"Long\\nterm\")\n",
    "ax.fill_between(\n",
    "    m_ssp126[\"time\"].sel(time=slice(\"20200101\", \"20400101\")),\n",
    "    -2, ytop+.82, alpha=.33, color=\"grey\")\n",
    "ax.fill_between(\n",
    "     m_ssp126[\"time\"].sel(time=slice(\"20400101\", \"20600101\")),\n",
    "    -2, ytop+.82, alpha=.33, color=\"grey\")\n",
    "ax.fill_between(\n",
    "     m_ssp126[\"time\"].sel(time=slice(\"20800101\", None)),\n",
    "    -2, ytop+.82, alpha=.33, color=\"grey\")\n",
    "\n",
    "ax2 = ax.twinx()\n",
    "ax2.set_ylabel(\"Relative to 1850-1900 (°C)\")\n",
    "ax2.set_ylim(bottom=-2+.82, top=ytop+.82)\n",
    "ax.set_ylim([-2, ytop])\n",
    "\n",
    "ax.plot(m_hist.time, m_hist, color=\"#010101\", label=f\"Historical  {len(un_mean_hist['member'])}\")\n",
    "ax.plot(m_ssp126.time, m_ssp126, color=\"#0e57cc\", label=f\"SSP1-2.6  {len(un_mean_ssp126['member'])}\")\n",
    "ax.plot(m_ssp245.time, m_ssp245, color=\"#e68d26\", label=f\"SSP2-4.5  {len(un_mean_ssp245['member'])}\")\n",
    "ax.plot(m_ssp370.time, m_ssp370, color=\"#e81515\", label=f\"SSP3-7.0  {len(un_mean_ssp370['member'])}\")\n",
    "ax.plot(m_ssp585.time, m_ssp585, color=\"#9b1a22\", label=f\"SSP5-8.5  {len(un_mean_ssp585['member'])}\")\n",
    "\n",
    "# ax2.plot(m_hist_18.time, m_hist_18, color=\"#010101\", label=f\"Historical  {len(mean_hist['member'])}\")\n",
    "# ax2.plot(m_ssp126_18.time, m_ssp126_18, color=\"#0e57cc\", label=f\"SSP1-2.6  {len(mean_ssp126['member'])}\")\n",
    "# ax2.plot(m_ssp245_18.time, m_ssp245_18, color=\"#e68d26\", label=f\"SSP2-4.5  {len(mean_ssp245['member'])}\")\n",
    "# ax2.plot(m_ssp370_18.time, m_ssp370_18, color=\"#e81515\", label=f\"SSP3-7.0  {len(mean_ssp370['member'])}\")\n",
    "# ax2.plot(m_ssp585_18.time, m_ssp585_18, color=\"#9b1a22\", label=f\"SSP5-8.5  {len(mean_ssp585['member'])}\")\n",
    "\n",
    "ax.margins(0)\n",
    "ax2.margins(0)\n",
    "ax.legend()\n",
    "\n",
    "plt.savefig(\"pangeo-unweighted.pdf\")"
   ]
  },
  {
   "cell_type": "markdown",
   "id": "d62fb871-918e-4c05-9428-80670540325d",
   "metadata": {},
   "source": [
    "## Task graphs"
   ]
  },
  {
   "cell_type": "code",
   "execution_count": null,
   "id": "054f0ec7-4b6e-4abe-9032-6ec9fe23acd6",
   "metadata": {},
   "outputs": [],
   "source": [
    "u = historical_dss[0][\"tas\"].isel(time=slice(0,221*3)).mean([\"lat\", \"lon\"])\n",
    "w = historical_dss[0][\"tas\"].isel(time=slice(0,221*3)).weighted(\n",
    "    np.cos(np.deg2rad(historical_dss[0].coords[\"lat\"]))).mean([\"lat\", \"lon\"])"
   ]
  },
  {
   "cell_type": "code",
   "execution_count": null,
   "id": "28583753-cec4-4e2f-9f1e-b45ab739dafb",
   "metadata": {},
   "outputs": [],
   "source": [
    "u.data.visualize(filename=\"tg-unweighted.pdf\", optimize_graph=True)"
   ]
  },
  {
   "cell_type": "code",
   "execution_count": null,
   "id": "35df9bd3-4d82-445e-b4a3-5218a926856e",
   "metadata": {},
   "outputs": [],
   "source": [
    "w.data.visualize(filename=\"tg-weighted.pdf\", optimize_graph=True)"
   ]
  },
  {
   "cell_type": "markdown",
   "id": "cd87fc67-91d0-4f4f-85c7-b525ad1aebf7",
   "metadata": {},
   "source": [
    "To bebug using the distributed scheduler:\n",
    "\n",
    "```python\n",
    "from dask.distributed import Client, LocalCluster\n",
    "from dask.distributed import performance_report\n",
    "\n",
    "cluster = LocalCluster(processes=True,threads_per_worker=1)\n",
    "client = Client(cluster)\n",
    "```"
   ]
  },
  {
   "cell_type": "markdown",
   "id": "884bde82-fa0b-418b-89c6-e8a4bf7b7764",
   "metadata": {},
   "source": [
    "# Measure performance"
   ]
  },
  {
   "cell_type": "code",
   "execution_count": null,
   "id": "459b8aa3-44d2-44d8-a8fa-9b2adbb11079",
   "metadata": {},
   "outputs": [],
   "source": [
    "from gsat import measure"
   ]
  },
  {
   "cell_type": "code",
   "execution_count": null,
   "id": "13195705-d7e9-4906-9fa6-ffc266e74dc5",
   "metadata": {},
   "outputs": [],
   "source": [
    "runs = 5\n",
    "workers = [2,4,8]"
   ]
  },
  {
   "cell_type": "code",
   "execution_count": null,
   "id": "9abdf687-a40e-4261-967a-b81bd0e111a6",
   "metadata": {
    "scrolled": true
   },
   "outputs": [],
   "source": [
    "results = measure(\"weighted-pangeo\", workers, runs, weighted,\n",
    "                  historical_dss, ssp126_dss, ssp245_dss, ssp370_dss, ssp585_dss)"
   ]
  },
  {
   "cell_type": "code",
   "execution_count": null,
   "id": "6adb77cd-49dd-4e8f-acef-3752b500290c",
   "metadata": {},
   "outputs": [],
   "source": [
    "pd.DataFrame.from_records(results).to_csv(\"weighted-pangeo.csv\", index=False)"
   ]
  },
  {
   "cell_type": "code",
   "execution_count": null,
   "id": "f2e88cb5-d75b-4a2f-8196-21c74baf5989",
   "metadata": {},
   "outputs": [],
   "source": []
  }
 ],
 "metadata": {
  "kernelspec": {
   "display_name": "nc48",
   "language": "python",
   "name": "nc48"
  },
  "language_info": {
   "codemirror_mode": {
    "name": "ipython",
    "version": 3
   },
   "file_extension": ".py",
   "mimetype": "text/x-python",
   "name": "python",
   "nbconvert_exporter": "python",
   "pygments_lexer": "ipython3",
   "version": "3.11.6"
  }
 },
 "nbformat": 4,
 "nbformat_minor": 5
}
