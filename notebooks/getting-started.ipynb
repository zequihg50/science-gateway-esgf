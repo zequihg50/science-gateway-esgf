{
 "cells": [
  {
   "cell_type": "markdown",
   "id": "a1e3f88f-e365-4818-9d9f-db365e34a50a",
   "metadata": {},
   "source": [
    "notebooks\n",
    "\n",
    "- https://gallery.pangeo.io/repos/pangeo-gallery/cmip6/ECS_Gregory_method.html\n",
    "- https://gallery.pangeo.io/repos/pangeo-gallery/cmip6/global_mean_surface_temp.html\n",
    "- "
   ]
  },
  {
   "cell_type": "markdown",
   "id": "e1ab34b9-c00a-4187-8dad-11218b33d9f8",
   "metadata": {},
   "source": [
    "# Getting started with IFCA-ESGFlab\n",
    "\n",
    "The ESGF datalab of Instituto de Física de Cantabria (IFCA-ESGFlab) provides a Science Gateway to climate and virtual Analysis Ready Data (vARD) of the Earth System Grid Federation (ESGF)."
   ]
  },
  {
   "cell_type": "code",
   "execution_count": 3,
   "id": "280572d6-3d9b-4df1-90b0-cc85122f7a86",
   "metadata": {},
   "outputs": [],
   "source": [
    "import pandas as pd\n",
    "\n",
    "import xarray\n",
    "import dask"
   ]
  },
  {
   "cell_type": "code",
   "execution_count": 2,
   "id": "0722a69b-daf0-47aa-916d-e8f6af699fdb",
   "metadata": {},
   "outputs": [
    {
     "data": {
      "text/plain": [
       "<dask.config.set at 0x7f362424fcd0>"
      ]
     },
     "execution_count": 2,
     "metadata": {},
     "output_type": "execute_result"
    }
   ],
   "source": [
    "dask.config.set(scheduler=\"processes\")"
   ]
  },
  {
   "cell_type": "markdown",
   "id": "08f5572b-e756-421d-8c0c-38e4479f024b",
   "metadata": {},
   "source": [
    "## Data inventory\n",
    "\n",
    "First things first. What data is available? A CSV inventory provides a machine readable catalog of data."
   ]
  },
  {
   "cell_type": "code",
   "execution_count": 6,
   "id": "325247a8-e66b-40b7-8958-5086adb5b810",
   "metadata": {},
   "outputs": [
    {
     "data": {
      "text/html": [
       "<div>\n",
       "<style scoped>\n",
       "    .dataframe tbody tr th:only-of-type {\n",
       "        vertical-align: middle;\n",
       "    }\n",
       "\n",
       "    .dataframe tbody tr th {\n",
       "        vertical-align: top;\n",
       "    }\n",
       "\n",
       "    .dataframe thead th {\n",
       "        text-align: right;\n",
       "    }\n",
       "</style>\n",
       "<table border=\"1\" class=\"dataframe\">\n",
       "  <thead>\n",
       "    <tr style=\"text-align: right;\">\n",
       "      <th></th>\n",
       "      <th>location</th>\n",
       "      <th>type</th>\n",
       "      <th>variable</th>\n",
       "      <th>project</th>\n",
       "      <th>experiment</th>\n",
       "      <th>frequency</th>\n",
       "    </tr>\n",
       "  </thead>\n",
       "  <tbody>\n",
       "    <tr>\n",
       "      <th>0</th>\n",
       "      <td>https://hub.climate4r.ifca.es/thredds/dodsC/ip...</td>\n",
       "      <td>opendap</td>\n",
       "      <td>pr</td>\n",
       "      <td>CORDEX-ANT</td>\n",
       "      <td>historical</td>\n",
       "      <td>mon</td>\n",
       "    </tr>\n",
       "    <tr>\n",
       "      <th>1</th>\n",
       "      <td>https://hub.climate4r.ifca.es/thredds/dodsC/ip...</td>\n",
       "      <td>opendap</td>\n",
       "      <td>tn</td>\n",
       "      <td>CORDEX-ANT</td>\n",
       "      <td>historical</td>\n",
       "      <td>mon</td>\n",
       "    </tr>\n",
       "    <tr>\n",
       "      <th>2</th>\n",
       "      <td>https://hub.climate4r.ifca.es/thredds/dodsC/ip...</td>\n",
       "      <td>opendap</td>\n",
       "      <td>rx1day</td>\n",
       "      <td>CORDEX-ANT</td>\n",
       "      <td>historical</td>\n",
       "      <td>mon</td>\n",
       "    </tr>\n",
       "    <tr>\n",
       "      <th>3</th>\n",
       "      <td>https://hub.climate4r.ifca.es/thredds/dodsC/ip...</td>\n",
       "      <td>opendap</td>\n",
       "      <td>tx</td>\n",
       "      <td>CORDEX-ANT</td>\n",
       "      <td>historical</td>\n",
       "      <td>mon</td>\n",
       "    </tr>\n",
       "    <tr>\n",
       "      <th>4</th>\n",
       "      <td>https://hub.climate4r.ifca.es/thredds/dodsC/ip...</td>\n",
       "      <td>opendap</td>\n",
       "      <td>txx</td>\n",
       "      <td>CORDEX-ANT</td>\n",
       "      <td>historical</td>\n",
       "      <td>mon</td>\n",
       "    </tr>\n",
       "    <tr>\n",
       "      <th>5</th>\n",
       "      <td>https://hub.climate4r.ifca.es/thredds/dodsC/ip...</td>\n",
       "      <td>opendap</td>\n",
       "      <td>tnn</td>\n",
       "      <td>CORDEX-ANT</td>\n",
       "      <td>historical</td>\n",
       "      <td>mon</td>\n",
       "    </tr>\n",
       "    <tr>\n",
       "      <th>6</th>\n",
       "      <td>https://hub.climate4r.ifca.es/thredds/dodsC/ip...</td>\n",
       "      <td>opendap</td>\n",
       "      <td>sfcwind</td>\n",
       "      <td>CORDEX-ANT</td>\n",
       "      <td>historical</td>\n",
       "      <td>mon</td>\n",
       "    </tr>\n",
       "    <tr>\n",
       "      <th>7</th>\n",
       "      <td>https://hub.climate4r.ifca.es/thredds/dodsC/ip...</td>\n",
       "      <td>opendap</td>\n",
       "      <td>cdd</td>\n",
       "      <td>CORDEX-ANT</td>\n",
       "      <td>historical</td>\n",
       "      <td>yr</td>\n",
       "    </tr>\n",
       "    <tr>\n",
       "      <th>8</th>\n",
       "      <td>https://hub.climate4r.ifca.es/thredds/dodsC/ip...</td>\n",
       "      <td>opendap</td>\n",
       "      <td>t</td>\n",
       "      <td>CORDEX-ANT</td>\n",
       "      <td>historical</td>\n",
       "      <td>mon</td>\n",
       "    </tr>\n",
       "    <tr>\n",
       "      <th>9</th>\n",
       "      <td>https://hub.climate4r.ifca.es/thredds/dodsC/ip...</td>\n",
       "      <td>opendap</td>\n",
       "      <td>rx5day</td>\n",
       "      <td>CORDEX-ANT</td>\n",
       "      <td>historical</td>\n",
       "      <td>mon</td>\n",
       "    </tr>\n",
       "  </tbody>\n",
       "</table>\n",
       "</div>"
      ],
      "text/plain": [
       "                                            location     type variable  \\\n",
       "0  https://hub.climate4r.ifca.es/thredds/dodsC/ip...  opendap       pr   \n",
       "1  https://hub.climate4r.ifca.es/thredds/dodsC/ip...  opendap       tn   \n",
       "2  https://hub.climate4r.ifca.es/thredds/dodsC/ip...  opendap   rx1day   \n",
       "3  https://hub.climate4r.ifca.es/thredds/dodsC/ip...  opendap       tx   \n",
       "4  https://hub.climate4r.ifca.es/thredds/dodsC/ip...  opendap      txx   \n",
       "5  https://hub.climate4r.ifca.es/thredds/dodsC/ip...  opendap      tnn   \n",
       "6  https://hub.climate4r.ifca.es/thredds/dodsC/ip...  opendap  sfcwind   \n",
       "7  https://hub.climate4r.ifca.es/thredds/dodsC/ip...  opendap      cdd   \n",
       "8  https://hub.climate4r.ifca.es/thredds/dodsC/ip...  opendap        t   \n",
       "9  https://hub.climate4r.ifca.es/thredds/dodsC/ip...  opendap   rx5day   \n",
       "\n",
       "      project  experiment frequency  \n",
       "0  CORDEX-ANT  historical       mon  \n",
       "1  CORDEX-ANT  historical       mon  \n",
       "2  CORDEX-ANT  historical       mon  \n",
       "3  CORDEX-ANT  historical       mon  \n",
       "4  CORDEX-ANT  historical       mon  \n",
       "5  CORDEX-ANT  historical       mon  \n",
       "6  CORDEX-ANT  historical       mon  \n",
       "7  CORDEX-ANT  historical        yr  \n",
       "8  CORDEX-ANT  historical       mon  \n",
       "9  CORDEX-ANT  historical       mon  "
      ]
     },
     "execution_count": 6,
     "metadata": {},
     "output_type": "execute_result"
    }
   ],
   "source": [
    "df = pd.read_csv(\"https://raw.githubusercontent.com/SantanderMetGroup/IPCC-Atlas-Datalab/refs/heads/main/data_inventory.csv\")\n",
    "df[:10]"
   ]
  },
  {
   "cell_type": "markdown",
   "id": "7523d5d6-583b-4de8-bbe8-bf1d139e68b9",
   "metadata": {},
   "source": [
    "### ESGF replicas\n",
    "\n",
    "The ESGF replicates data across data nodes to prevent data loss. This provides backup nodes if the desired dataset has been replicated. Because OPeNDAP is not well supported in the ESGF (https://doi.org/10.5194/gmd-2024-120), it is common for OPeNDAP data access to fail.\n",
    "\n",
    "We can distinguish replicas from master datasets in the inventory using the column `NAME`. If it has the value `None`, then it is a master ID. If it is a string, then the string represents the name of the ESGF data node where the dataset is replicated."
   ]
  },
  {
   "cell_type": "markdown",
   "id": "a20803b5-bb54-4421-a366-8eb6c99b980c",
   "metadata": {},
   "source": [
    "## Data access\n",
    "\n",
    "Once you have located the datasets of interest, you can open their endpoint URLs using OPeNDAP compatible clients."
   ]
  },
  {
   "cell_type": "code",
   "execution_count": null,
   "id": "31648e00-58a8-408f-beb9-d0f5e2a796d6",
   "metadata": {},
   "outputs": [],
   "source": []
  },
  {
   "cell_type": "markdown",
   "id": "ef81f882-b85b-45b2-9da8-e15470bc9f8d",
   "metadata": {},
   "source": [
    "## Data analysis\n",
    "\n",
    "We are using [xarray](https://docs.xarray.dev) to perform our data analysis task but you can use any climate data analysis ready compatible with OPeNDAP.\n",
    "\n",
    "https://gallery.pangeo.io/repos/pangeo-gallery/cmip6/basic_search_and_load.html"
   ]
  },
  {
   "cell_type": "markdown",
   "id": "fdc2aa8d-e96f-4eab-b019-67986e2e337e",
   "metadata": {},
   "source": [
    "Plot a map from a specific date."
   ]
  },
  {
   "cell_type": "code",
   "execution_count": null,
   "id": "f87a717e-cf06-40b4-849e-ea024b7aa874",
   "metadata": {},
   "outputs": [],
   "source": []
  },
  {
   "cell_type": "markdown",
   "id": "c2779669-280b-42ab-82cd-27ba1051fcf8",
   "metadata": {},
   "source": [
    "Create a timeseries of global-average surface air temperature. For this we need the area weighting factor for each gridpoint."
   ]
  },
  {
   "cell_type": "code",
   "execution_count": null,
   "id": "82d1bb85-59c4-46fe-838b-5492f5aa32d2",
   "metadata": {},
   "outputs": [],
   "source": []
  },
  {
   "cell_type": "markdown",
   "id": "9fcc3d1a-5477-4e88-8f7d-9992089623aa",
   "metadata": {},
   "source": [
    "By default the data are loaded lazily, as Dask arrays. Here we trigger computation explicitly."
   ]
  },
  {
   "cell_type": "code",
   "execution_count": null,
   "id": "546926af-51ae-4625-9835-a9eb1481fcb4",
   "metadata": {},
   "outputs": [],
   "source": []
  }
 ],
 "metadata": {
  "kernelspec": {
   "display_name": "Python 3 (ipykernel)",
   "language": "python",
   "name": "python3"
  },
  "language_info": {
   "codemirror_mode": {
    "name": "ipython",
    "version": 3
   },
   "file_extension": ".py",
   "mimetype": "text/x-python",
   "name": "python",
   "nbconvert_exporter": "python",
   "pygments_lexer": "ipython3",
   "version": "3.10.13"
  }
 },
 "nbformat": 4,
 "nbformat_minor": 5
}
